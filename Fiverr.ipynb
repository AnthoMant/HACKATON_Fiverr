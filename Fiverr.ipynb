{
  "nbformat": 4,
  "nbformat_minor": 0,
  "metadata": {
    "colab": {
      "name": "Fiverr",
      "provenance": [],
      "collapsed_sections": [
        "vssaaq5VOPnV",
        "ByM09GnhuWZ4",
        "PbUl9bC2INU3",
        "xN8WKqvMiw8_",
        "CIyG9zaC41qj",
        "ojiao6ZBd31X"
      ],
      "include_colab_link": true
    },
    "kernelspec": {
      "name": "python3",
      "display_name": "Python 3"
    },
    "language_info": {
      "name": "python"
    }
  },
  "cells": [
    {
      "cell_type": "markdown",
      "metadata": {
        "id": "view-in-github",
        "colab_type": "text"
      },
      "source": [
        "<a href=\"https://colab.research.google.com/github/AnthoMant/HACKATON_Fiverr/blob/main/Fiverr.ipynb\" target=\"_parent\"><img src=\"https://colab.research.google.com/assets/colab-badge.svg\" alt=\"Open In Colab\"/></a>"
      ]
    },
    {
      "cell_type": "markdown",
      "metadata": {
        "id": "6peabolRuTZh"
      },
      "source": [
        "#Import"
      ]
    },
    {
      "cell_type": "code",
      "metadata": {
        "id": "Sgdgt_S21fvM"
      },
      "source": [
        "import pandas as pd\n",
        "import seaborn as sns\n",
        "import matplotlib.pyplot as plt\n",
        "import time\n",
        "import warnings                              # permet d'ignorer les messages de warnings pour une meilleure visibilité\n",
        "warnings.filterwarnings('ignore')\n",
        "from bs4 import BeautifulSoup"
      ],
      "execution_count": null,
      "outputs": []
    },
    {
      "cell_type": "code",
      "metadata": {
        "id": "GiNEfh-C5C9F"
      },
      "source": [
        "link = '/content/drive/MyDrive/Wild/Hackathon Fiverr/Données/Clean_dataset 2.0.csv'\n",
        "df = pd.read_csv(link)"
      ],
      "execution_count": null,
      "outputs": []
    },
    {
      "cell_type": "markdown",
      "metadata": {
        "id": "vssaaq5VOPnV"
      },
      "source": [
        "#Nettoyage 3.0"
      ]
    },
    {
      "cell_type": "code",
      "metadata": {
        "id": "q7PjuXsEOSSi"
      },
      "source": [
        "url_3 = '/content/drive/MyDrive/Wild/Hackathon Fiverr/Données/clean_dataset_3.0.csv'\n",
        "df_3 = pd.read_csv(url_3)"
      ],
      "execution_count": null,
      "outputs": []
    },
    {
      "cell_type": "code",
      "metadata": {
        "id": "lYhRqUTZQDEv"
      },
      "source": [
        "colonnes_3 = list(df_3.columns)\n",
        "new_new_cols_3 = [x.strip('_1') for x in colonnes_3]\n",
        "new_new_new_cols_3 = [x.strip(' ') for x in new_new_cols_3]\n",
        "\n",
        "df_3.columns= new_new_new_cols_3"
      ],
      "execution_count": null,
      "outputs": []
    },
    {
      "cell_type": "code",
      "metadata": {
        "colab": {
          "base_uri": "https://localhost:8080/"
        },
        "id": "NttHQANGOctT",
        "outputId": "b6054a77-c0d3-4cdd-8558-3f7acc92ddcc"
      },
      "source": [
        "df_3.info()"
      ],
      "execution_count": null,
      "outputs": [
        {
          "output_type": "stream",
          "text": [
            "<class 'pandas.core.frame.DataFrame'>\n",
            "RangeIndex: 881 entries, 0 to 880\n",
            "Data columns (total 43 columns):\n",
            " #   Column                    Non-Null Count  Dtype  \n",
            "---  ------                    --------------  -----  \n",
            " 0   Address                   876 non-null    object \n",
            " 1   seller_link               881 non-null    object \n",
            " 2   seller_level              642 non-null    object \n",
            " 3   rating_score              823 non-null    float64\n",
            " 4   ratings_count             823 non-null    float64\n",
            " 5   orders_in_queue           275 non-null    float64\n",
            " 6   collect_count             833 non-null    float64\n",
            " 7   title                     881 non-null    object \n",
            " 8   description_content       879 non-null    object \n",
            " 9   metadata                  178 non-null    object \n",
            " 10  one_liner                 704 non-null    object \n",
            " 11  user_stats_from           836 non-null    object \n",
            " 12  user_stats_member_since   833 non-null    object \n",
            " 13  user_stats_response_time  799 non-null    float64\n",
            " 14  user_stats_last_delivery  836 non-null    object \n",
            " 15  seller_desc_expanded      176 non-null    object \n",
            " 16  package1_title            788 non-null    object \n",
            " 17  package1_type             788 non-null    object \n",
            " 18  package1_price            788 non-null    float64\n",
            " 19  package1_desc             788 non-null    object \n",
            " 20  package2_title            788 non-null    object \n",
            " 21  package2_type             788 non-null    object \n",
            " 22  package2_price            788 non-null    float64\n",
            " 23  package2_desc             788 non-null    object \n",
            " 24  package3_title            788 non-null    object \n",
            " 25  package3_type             788 non-null    object \n",
            " 26  package3_price            788 non-null    float64\n",
            " 27  package3_desc             788 non-null    object \n",
            " 28  faq1_q                    165 non-null    object \n",
            " 29  faq1_a                    165 non-null    object \n",
            " 30  faq2_q                    148 non-null    object \n",
            " 31  faq2_a                    148 non-null    object \n",
            " 32  faq3_q                    128 non-null    object \n",
            " 33  faq3_a                    128 non-null    object \n",
            " 34  faq4_q                    81 non-null     object \n",
            " 35  faq4_a                    81 non-null     object \n",
            " 36  review1_desc              823 non-null    object \n",
            " 37  review2_desc              774 non-null    object \n",
            " 38  review3-desc              720 non-null    object \n",
            " 39  review1_rating            823 non-null    float64\n",
            " 40  review2_rating            774 non-null    float64\n",
            " 41  review3_rating            720 non-null    float64\n",
            " 42  category                  878 non-null    object \n",
            "dtypes: float64(11), object(32)\n",
            "memory usage: 296.1+ KB\n"
          ],
          "name": "stdout"
        }
      ]
    },
    {
      "cell_type": "code",
      "metadata": {
        "id": "EzDMvzFrPXxI"
      },
      "source": [
        "df_3.dropna(subset=['Address'], inplace=True)"
      ],
      "execution_count": null,
      "outputs": []
    },
    {
      "cell_type": "code",
      "metadata": {
        "id": "bwcwDv-1P0p5"
      },
      "source": [
        "df_3['seller_level'].fillna('New Seller', inplace=True)"
      ],
      "execution_count": null,
      "outputs": []
    },
    {
      "cell_type": "code",
      "metadata": {
        "id": "o2lusxdbQtGm"
      },
      "source": [
        "mean_rating = round(df_3['rating_score'].mean(), 2)\n",
        "df_3['rating_score'].fillna(mean_rating, inplace=True)"
      ],
      "execution_count": null,
      "outputs": []
    },
    {
      "cell_type": "code",
      "metadata": {
        "id": "QMSro3g9RE1f"
      },
      "source": [
        "mean_rating_count = round(df_3['ratings_count'].mean())\n",
        "mean_rating_count\n",
        "df_3['ratings_count'].fillna(mean_rating, inplace=True)"
      ],
      "execution_count": null,
      "outputs": []
    },
    {
      "cell_type": "code",
      "metadata": {
        "id": "oeXAKqpARhLf"
      },
      "source": [
        "df_3['orders_in_queue'].fillna(0, inplace=True)"
      ],
      "execution_count": null,
      "outputs": []
    },
    {
      "cell_type": "code",
      "metadata": {
        "id": "f7sd3DnMSX5N"
      },
      "source": [
        "df_3['collect_count'].fillna(0, inplace=True)"
      ],
      "execution_count": null,
      "outputs": []
    },
    {
      "cell_type": "code",
      "metadata": {
        "id": "io8o-ztVSej0"
      },
      "source": [
        "df_3['description_content'].fillna('None', inplace=True)"
      ],
      "execution_count": null,
      "outputs": []
    },
    {
      "cell_type": "code",
      "metadata": {
        "id": "eBFxXzD-S7Zc"
      },
      "source": [
        "df_3['one_liner'].fillna('None', inplace=True)"
      ],
      "execution_count": null,
      "outputs": []
    },
    {
      "cell_type": "code",
      "metadata": {
        "id": "bYYpkDJPTEOk"
      },
      "source": [
        "df_3['metadata'].fillna('None', inplace=True)"
      ],
      "execution_count": null,
      "outputs": []
    },
    {
      "cell_type": "code",
      "metadata": {
        "id": "PhXHunJoU5bf"
      },
      "source": [
        "for colonne in ['faq1_q', 'faq1_a', 'faq2_q', 'faq2_a', 'faq3_q', 'faq3_a', 'faq4_q', 'faq4_a']:\n",
        "  df_3[colonne].fillna('None', inplace=True)"
      ],
      "execution_count": null,
      "outputs": []
    },
    {
      "cell_type": "code",
      "metadata": {
        "id": "s6wFXWe11_XB"
      },
      "source": [
        "df_3['faq1_exists']=df_3['faq1_q'].apply(lambda x: 0 if x=='None' else 1)"
      ],
      "execution_count": null,
      "outputs": []
    },
    {
      "cell_type": "code",
      "metadata": {
        "colab": {
          "base_uri": "https://localhost:8080/"
        },
        "id": "p4PVpZ1rS-oV",
        "outputId": "6d378ebf-8b85-4c5c-bb8a-e46ea1b110f8"
      },
      "source": [
        "df_3.columns"
      ],
      "execution_count": null,
      "outputs": [
        {
          "output_type": "execute_result",
          "data": {
            "text/plain": [
              "Index(['Address', 'seller_link', 'seller_level', 'rating_score',\n",
              "       'ratings_count', 'orders_in_queue', 'collect_count', 'title',\n",
              "       'description_content', 'metadata', 'one_liner', 'user_stats_from',\n",
              "       'user_stats_member_since', 'user_stats_response_time',\n",
              "       'user_stats_last_delivery', 'seller_desc_expanded', 'package1_title',\n",
              "       'package1_type', 'package1_price', 'package1_desc', 'package2_title',\n",
              "       'package2_type', 'package2_price', 'package2_desc', 'package3_title',\n",
              "       'package3_type', 'package3_price', 'package3_desc', 'faq1_q', 'faq1_a',\n",
              "       'faq2_q', 'faq2_a', 'faq3_q', 'faq3_a', 'faq4_q', 'faq4_a',\n",
              "       'review1_desc', 'review2_desc', 'review3-desc', 'review1_rating',\n",
              "       'review2_rating', 'review3_rating', 'category', 'faq1_exists'],\n",
              "      dtype='object')"
            ]
          },
          "metadata": {
            "tags": []
          },
          "execution_count": 27
        }
      ]
    },
    {
      "cell_type": "markdown",
      "metadata": {
        "id": "ByM09GnhuWZ4"
      },
      "source": [
        "#Nettoyage"
      ]
    },
    {
      "cell_type": "code",
      "metadata": {
        "colab": {
          "base_uri": "https://localhost:8080/"
        },
        "id": "vSTyAeRbAG78",
        "outputId": "487a0821-7c3b-4bdf-c309-e676fb62c921"
      },
      "source": [
        "df.columns"
      ],
      "execution_count": null,
      "outputs": [
        {
          "output_type": "execute_result",
          "data": {
            "text/plain": [
              "Index(['Address', 'seller_link', 'seller_level', 'rating_score',\n",
              "       'ratings_count', 'orders_in_queue', 'collect_count', 'title_',\n",
              "       'description_content', 'metadata_', 'one_liner_', 'user_stats_from_',\n",
              "       'user_stats_member_since_', 'user_stats_response_time_',\n",
              "       'user_stats_last_delivery', 'seller_desc_expanded_', 'package1_title_',\n",
              "       'package1_type_', 'package1_price_', 'package1_desc_',\n",
              "       'package2_title_', 'package2_type_', 'package2_price_',\n",
              "       'package2_desc_', 'package3_title_', 'package3_type_',\n",
              "       'package3_price_', 'package3_desc_', 'faq1_q_', 'faq1_a_', 'faq2_q_',\n",
              "       'faq2_a_', 'faq3_q_', 'faq3_a_', 'faq4_q_', 'faq4_a_', 'review1_desc_',\n",
              "       'review2_desc_', 'review3-desc', 'review1_rating_', 'review2_rating_',\n",
              "       'review3_rating_', 'category_'],\n",
              "      dtype='object')"
            ]
          },
          "metadata": {
            "tags": []
          },
          "execution_count": 82
        }
      ]
    },
    {
      "cell_type": "code",
      "metadata": {
        "id": "13RZ1J6IAG0t"
      },
      "source": [
        ""
      ],
      "execution_count": null,
      "outputs": []
    },
    {
      "cell_type": "code",
      "metadata": {
        "id": "DKjfeET6ItA0"
      },
      "source": [
        "colonnes = list(df.columns)\n",
        "\n",
        "new_cols = [x.strip('_1') for x in colonnes]\n",
        "new_new_cols = [x.strip(' 1') for x in colonnes]\n",
        "df.columns= new_new_cols"
      ],
      "execution_count": null,
      "outputs": []
    },
    {
      "cell_type": "code",
      "metadata": {
        "colab": {
          "base_uri": "https://localhost:8080/",
          "height": 417
        },
        "id": "tXOt4KqR5e4C",
        "outputId": "d982fd80-05a3-45a9-dc6a-de9f4ed300c1"
      },
      "source": [
        "df.head(3)"
      ],
      "execution_count": null,
      "outputs": [
        {
          "output_type": "execute_result",
          "data": {
            "text/html": [
              "<div>\n",
              "<style scoped>\n",
              "    .dataframe tbody tr th:only-of-type {\n",
              "        vertical-align: middle;\n",
              "    }\n",
              "\n",
              "    .dataframe tbody tr th {\n",
              "        vertical-align: top;\n",
              "    }\n",
              "\n",
              "    .dataframe thead th {\n",
              "        text-align: right;\n",
              "    }\n",
              "</style>\n",
              "<table border=\"1\" class=\"dataframe\">\n",
              "  <thead>\n",
              "    <tr style=\"text-align: right;\">\n",
              "      <th></th>\n",
              "      <th>Address</th>\n",
              "      <th>seller_link</th>\n",
              "      <th>seller_level</th>\n",
              "      <th>rating_score</th>\n",
              "      <th>ratings_count</th>\n",
              "      <th>orders_in_queue</th>\n",
              "      <th>collect_count</th>\n",
              "      <th>title_</th>\n",
              "      <th>description_content</th>\n",
              "      <th>metadata_</th>\n",
              "      <th>one_liner_</th>\n",
              "      <th>user_stats_from_</th>\n",
              "      <th>user_stats_member_since_</th>\n",
              "      <th>user_stats_response_time_</th>\n",
              "      <th>user_stats_last_delivery</th>\n",
              "      <th>seller_desc_expanded_</th>\n",
              "      <th>package1_title_</th>\n",
              "      <th>package1_type_</th>\n",
              "      <th>package1_price_</th>\n",
              "      <th>package1_desc_</th>\n",
              "      <th>package2_title_</th>\n",
              "      <th>package2_type_</th>\n",
              "      <th>package2_price_</th>\n",
              "      <th>package2_desc_</th>\n",
              "      <th>package3_title_</th>\n",
              "      <th>package3_type_</th>\n",
              "      <th>package3_price_</th>\n",
              "      <th>package3_desc_</th>\n",
              "      <th>faq1_q_</th>\n",
              "      <th>faq1_a_</th>\n",
              "      <th>faq2_q_</th>\n",
              "      <th>faq2_a_</th>\n",
              "      <th>faq3_q_</th>\n",
              "      <th>faq3_a_</th>\n",
              "      <th>faq4_q_</th>\n",
              "      <th>faq4_a_</th>\n",
              "      <th>review1_desc_</th>\n",
              "      <th>review2_desc_</th>\n",
              "      <th>review3-desc</th>\n",
              "      <th>review1_rating_</th>\n",
              "      <th>review2_rating_</th>\n",
              "      <th>review3_rating_</th>\n",
              "      <th>category_</th>\n",
              "    </tr>\n",
              "  </thead>\n",
              "  <tbody>\n",
              "    <tr>\n",
              "      <th>0</th>\n",
              "      <td>https://www.fiverr.com/westcoastwp/design-and-...</td>\n",
              "      <td>westcoastwp</td>\n",
              "      <td>Level 2 Seller</td>\n",
              "      <td>5.0</td>\n",
              "      <td>8.0</td>\n",
              "      <td>NaN</td>\n",
              "      <td>141.0</td>\n",
              "      <td>I will create a high converting website in web...</td>\n",
              "      <td>Need a professional high converting website fo...</td>\n",
              "      <td>&lt;li class=\"metadata-attribute\"&gt;&lt;p&gt;Platform&lt;/p&gt;...</td>\n",
              "      <td>Finerfox Media, an independent digital agency ...</td>\n",
              "      <td>NaN</td>\n",
              "      <td>NaN</td>\n",
              "      <td>NaN</td>\n",
              "      <td>NaN</td>\n",
              "      <td>NaN</td>\n",
              "      <td>STARTUP</td>\n",
              "      <td>Basic</td>\n",
              "      <td>1732.00</td>\n",
              "      <td>Professional single page site, up to 6 sections</td>\n",
              "      <td>ESTABLISHED</td>\n",
              "      <td>Standard</td>\n",
              "      <td>4329.00</td>\n",
              "      <td>Professional 5 page site - CMS - 1 plugin</td>\n",
              "      <td>INDUSTRY LEADER</td>\n",
              "      <td>Premium</td>\n",
              "      <td>6926.00</td>\n",
              "      <td>Professional 10 page site - CMS - ecommerce - ...</td>\n",
              "      <td>NaN</td>\n",
              "      <td>NaN</td>\n",
              "      <td>NaN</td>\n",
              "      <td>NaN</td>\n",
              "      <td>NaN</td>\n",
              "      <td>NaN</td>\n",
              "      <td>NaN</td>\n",
              "      <td>NaN</td>\n",
              "      <td>Finerfox Media is hands down the best dev team...</td>\n",
              "      <td>Very professional.</td>\n",
              "      <td>Item as delivered as described.</td>\n",
              "      <td>5.0</td>\n",
              "      <td>5.0</td>\n",
              "      <td>5.0</td>\n",
              "      <td>NaN</td>\n",
              "    </tr>\n",
              "    <tr>\n",
              "      <th>1</th>\n",
              "      <td>https://www.fiverr.com/yaseensaleem/design-cus...</td>\n",
              "      <td>yaseensaleem</td>\n",
              "      <td>Level 1 Seller</td>\n",
              "      <td>4.9</td>\n",
              "      <td>75.0</td>\n",
              "      <td>5.0</td>\n",
              "      <td>65.0</td>\n",
              "      <td>I will design, customize and optimize wix webs...</td>\n",
              "      <td>WIX is a great platform for online presence of...</td>\n",
              "      <td>&lt;li class=\"metadata-attribute\"&gt;&lt;p&gt;Platform&lt;/p&gt;...</td>\n",
              "      <td>Web designer and developer</td>\n",
              "      <td>Pakistan</td>\n",
              "      <td>01/2016</td>\n",
              "      <td>2.0</td>\n",
              "      <td>24</td>\n",
              "      <td>Hello there! First I would like to introduce m...</td>\n",
              "      <td>Basic Package</td>\n",
              "      <td>Basic</td>\n",
              "      <td>17.31</td>\n",
              "      <td>This package includes designing or customizati...</td>\n",
              "      <td>Standard Package</td>\n",
              "      <td>Standard</td>\n",
              "      <td>43.28</td>\n",
              "      <td>This package includes designing or customizati...</td>\n",
              "      <td>Premium Package</td>\n",
              "      <td>Premium</td>\n",
              "      <td>86.57</td>\n",
              "      <td>This package includes the designing or customi...</td>\n",
              "      <td>NaN</td>\n",
              "      <td>NaN</td>\n",
              "      <td>NaN</td>\n",
              "      <td>NaN</td>\n",
              "      <td>NaN</td>\n",
              "      <td>NaN</td>\n",
              "      <td>NaN</td>\n",
              "      <td>NaN</td>\n",
              "      <td>Yasseen got my site done, but not only did he ...</td>\n",
              "      <td>We ran into a few technical difficulties with ...</td>\n",
              "      <td>Great work, provided additional insights and u...</td>\n",
              "      <td>5.0</td>\n",
              "      <td>4.3</td>\n",
              "      <td>4.7</td>\n",
              "      <td>Full Website Creation</td>\n",
              "    </tr>\n",
              "    <tr>\n",
              "      <th>2</th>\n",
              "      <td>https://www.fiverr.com/yougeen/build-you-a-mem...</td>\n",
              "      <td>yougeen</td>\n",
              "      <td>Level 2 Seller</td>\n",
              "      <td>5.0</td>\n",
              "      <td>41.0</td>\n",
              "      <td>NaN</td>\n",
              "      <td>88.0</td>\n",
              "      <td>I will build you a funnel in clickfunnels</td>\n",
              "      <td>I'll build and setup a Clickfunnels website fo...</td>\n",
              "      <td>NaN</td>\n",
              "      <td>professional, reliable and customer oriented</td>\n",
              "      <td>Germany</td>\n",
              "      <td>02/2015</td>\n",
              "      <td>2.0</td>\n",
              "      <td>504</td>\n",
              "      <td>NaN</td>\n",
              "      <td>Clickfunnels Opt-in / Lead  Page</td>\n",
              "      <td>Basic</td>\n",
              "      <td>82.24</td>\n",
              "      <td>1 Lead Page with Opt-in Form and Thank you Page</td>\n",
              "      <td>Clickfunnels Sales Funnel</td>\n",
              "      <td>Standard</td>\n",
              "      <td>212.09</td>\n",
              "      <td>Build Sales page with product integration</td>\n",
              "      <td>Clickfunnels Sales + Member Funnel</td>\n",
              "      <td>Premium</td>\n",
              "      <td>298.66</td>\n",
              "      <td>Build Sales page with a member area</td>\n",
              "      <td>Do I need a Clickfunnels subscription for this...</td>\n",
              "      <td>Yes, you need your own Clickfunnels account. I...</td>\n",
              "      <td>I don't have any sale copy. Can you help me wi...</td>\n",
              "      <td>I don't write any sale copy, please provide me...</td>\n",
              "      <td>How will I receive my funnel?</td>\n",
              "      <td>I will create the funnel in your Clickfunnels ...</td>\n",
              "      <td>NaN</td>\n",
              "      <td>NaN</td>\n",
              "      <td>Eugen is a great guy and super engaged. He is ...</td>\n",
              "      <td>Yougeen helped me a lot with my existing funne...</td>\n",
              "      <td>Sehr unkompliziert und entgegenkommend</td>\n",
              "      <td>5.0</td>\n",
              "      <td>5.0</td>\n",
              "      <td>5.0</td>\n",
              "      <td>Full Website Creation</td>\n",
              "    </tr>\n",
              "  </tbody>\n",
              "</table>\n",
              "</div>"
            ],
            "text/plain": [
              "                                             Address  ...              category_\n",
              "0  https://www.fiverr.com/westcoastwp/design-and-...  ...                    NaN\n",
              "1  https://www.fiverr.com/yaseensaleem/design-cus...  ...  Full Website Creation\n",
              "2  https://www.fiverr.com/yougeen/build-you-a-mem...  ...  Full Website Creation\n",
              "\n",
              "[3 rows x 43 columns]"
            ]
          },
          "metadata": {
            "tags": []
          },
          "execution_count": 87
        }
      ]
    },
    {
      "cell_type": "code",
      "metadata": {
        "colab": {
          "base_uri": "https://localhost:8080/",
          "height": 317
        },
        "id": "DBLL2FKK51sr",
        "outputId": "c15259cc-40b0-4d64-a976-fed73383d24f"
      },
      "source": [
        "df.describe()"
      ],
      "execution_count": null,
      "outputs": [
        {
          "output_type": "execute_result",
          "data": {
            "text/html": [
              "<div>\n",
              "<style scoped>\n",
              "    .dataframe tbody tr th:only-of-type {\n",
              "        vertical-align: middle;\n",
              "    }\n",
              "\n",
              "    .dataframe tbody tr th {\n",
              "        vertical-align: top;\n",
              "    }\n",
              "\n",
              "    .dataframe thead th {\n",
              "        text-align: right;\n",
              "    }\n",
              "</style>\n",
              "<table border=\"1\" class=\"dataframe\">\n",
              "  <thead>\n",
              "    <tr style=\"text-align: right;\">\n",
              "      <th></th>\n",
              "      <th>rating_score</th>\n",
              "      <th>ratings_count</th>\n",
              "      <th>orders_in_queue</th>\n",
              "      <th>collect_count</th>\n",
              "      <th>user_stats_response_time_</th>\n",
              "      <th>package1_price_</th>\n",
              "      <th>package2_price_</th>\n",
              "      <th>package3_price_</th>\n",
              "      <th>review1_rating_</th>\n",
              "      <th>review2_rating_</th>\n",
              "      <th>review3_rating_</th>\n",
              "    </tr>\n",
              "  </thead>\n",
              "  <tbody>\n",
              "    <tr>\n",
              "      <th>count</th>\n",
              "      <td>823.000000</td>\n",
              "      <td>823.000000</td>\n",
              "      <td>275.000000</td>\n",
              "      <td>833.000000</td>\n",
              "      <td>799.000000</td>\n",
              "      <td>788.000000</td>\n",
              "      <td>788.000000</td>\n",
              "      <td>788.000000</td>\n",
              "      <td>823.000000</td>\n",
              "      <td>774.000000</td>\n",
              "      <td>720.000000</td>\n",
              "    </tr>\n",
              "    <tr>\n",
              "      <th>mean</th>\n",
              "      <td>4.960267</td>\n",
              "      <td>37.851762</td>\n",
              "      <td>2.880000</td>\n",
              "      <td>152.681873</td>\n",
              "      <td>2.683354</td>\n",
              "      <td>69.919315</td>\n",
              "      <td>176.854277</td>\n",
              "      <td>323.086053</td>\n",
              "      <td>4.942163</td>\n",
              "      <td>4.948579</td>\n",
              "      <td>4.947361</td>\n",
              "    </tr>\n",
              "    <tr>\n",
              "      <th>std</th>\n",
              "      <td>0.085654</td>\n",
              "      <td>74.180223</td>\n",
              "      <td>3.294011</td>\n",
              "      <td>450.280205</td>\n",
              "      <td>8.404922</td>\n",
              "      <td>111.474574</td>\n",
              "      <td>266.775619</td>\n",
              "      <td>464.098346</td>\n",
              "      <td>0.288648</td>\n",
              "      <td>0.344037</td>\n",
              "      <td>0.310625</td>\n",
              "    </tr>\n",
              "    <tr>\n",
              "      <th>min</th>\n",
              "      <td>4.200000</td>\n",
              "      <td>1.000000</td>\n",
              "      <td>1.000000</td>\n",
              "      <td>1.000000</td>\n",
              "      <td>1.000000</td>\n",
              "      <td>4.400000</td>\n",
              "      <td>8.790000</td>\n",
              "      <td>13.190000</td>\n",
              "      <td>1.000000</td>\n",
              "      <td>1.000000</td>\n",
              "      <td>1.300000</td>\n",
              "    </tr>\n",
              "    <tr>\n",
              "      <th>25%</th>\n",
              "      <td>4.900000</td>\n",
              "      <td>4.000000</td>\n",
              "      <td>1.000000</td>\n",
              "      <td>7.000000</td>\n",
              "      <td>1.000000</td>\n",
              "      <td>17.590000</td>\n",
              "      <td>65.950000</td>\n",
              "      <td>123.110000</td>\n",
              "      <td>5.000000</td>\n",
              "      <td>5.000000</td>\n",
              "      <td>5.000000</td>\n",
              "    </tr>\n",
              "    <tr>\n",
              "      <th>50%</th>\n",
              "      <td>5.000000</td>\n",
              "      <td>12.000000</td>\n",
              "      <td>2.000000</td>\n",
              "      <td>27.000000</td>\n",
              "      <td>1.000000</td>\n",
              "      <td>39.690000</td>\n",
              "      <td>109.920000</td>\n",
              "      <td>216.420000</td>\n",
              "      <td>5.000000</td>\n",
              "      <td>5.000000</td>\n",
              "      <td>5.000000</td>\n",
              "    </tr>\n",
              "    <tr>\n",
              "      <th>75%</th>\n",
              "      <td>5.000000</td>\n",
              "      <td>37.000000</td>\n",
              "      <td>3.000000</td>\n",
              "      <td>107.000000</td>\n",
              "      <td>2.000000</td>\n",
              "      <td>79.140000</td>\n",
              "      <td>186.855000</td>\n",
              "      <td>351.750000</td>\n",
              "      <td>5.000000</td>\n",
              "      <td>5.000000</td>\n",
              "      <td>5.000000</td>\n",
              "    </tr>\n",
              "    <tr>\n",
              "      <th>max</th>\n",
              "      <td>5.000000</td>\n",
              "      <td>767.000000</td>\n",
              "      <td>25.000000</td>\n",
              "      <td>6941.000000</td>\n",
              "      <td>168.000000</td>\n",
              "      <td>1732.000000</td>\n",
              "      <td>4329.000000</td>\n",
              "      <td>6926.000000</td>\n",
              "      <td>5.000000</td>\n",
              "      <td>5.000000</td>\n",
              "      <td>5.000000</td>\n",
              "    </tr>\n",
              "  </tbody>\n",
              "</table>\n",
              "</div>"
            ],
            "text/plain": [
              "       rating_score  ratings_count  ...  review2_rating_  review3_rating_\n",
              "count    823.000000     823.000000  ...       774.000000       720.000000\n",
              "mean       4.960267      37.851762  ...         4.948579         4.947361\n",
              "std        0.085654      74.180223  ...         0.344037         0.310625\n",
              "min        4.200000       1.000000  ...         1.000000         1.300000\n",
              "25%        4.900000       4.000000  ...         5.000000         5.000000\n",
              "50%        5.000000      12.000000  ...         5.000000         5.000000\n",
              "75%        5.000000      37.000000  ...         5.000000         5.000000\n",
              "max        5.000000     767.000000  ...         5.000000         5.000000\n",
              "\n",
              "[8 rows x 11 columns]"
            ]
          },
          "metadata": {
            "tags": []
          },
          "execution_count": 85
        }
      ]
    },
    {
      "cell_type": "code",
      "metadata": {
        "colab": {
          "base_uri": "https://localhost:8080/",
          "height": 561
        },
        "id": "Z9nUj_VW6fLt",
        "outputId": "bd9bd0d0-c8c5-4b44-d80b-25c5a216acc1"
      },
      "source": [
        "df['category'].unique()"
      ],
      "execution_count": null,
      "outputs": [
        {
          "output_type": "error",
          "ename": "KeyError",
          "evalue": "ignored",
          "traceback": [
            "\u001b[0;31m---------------------------------------------------------------------------\u001b[0m",
            "\u001b[0;31mKeyError\u001b[0m                                  Traceback (most recent call last)",
            "\u001b[0;32m/usr/local/lib/python3.7/dist-packages/pandas/core/indexes/base.py\u001b[0m in \u001b[0;36mget_loc\u001b[0;34m(self, key, method, tolerance)\u001b[0m\n\u001b[1;32m   2897\u001b[0m             \u001b[0;32mtry\u001b[0m\u001b[0;34m:\u001b[0m\u001b[0;34m\u001b[0m\u001b[0;34m\u001b[0m\u001b[0m\n\u001b[0;32m-> 2898\u001b[0;31m                 \u001b[0;32mreturn\u001b[0m \u001b[0mself\u001b[0m\u001b[0;34m.\u001b[0m\u001b[0m_engine\u001b[0m\u001b[0;34m.\u001b[0m\u001b[0mget_loc\u001b[0m\u001b[0;34m(\u001b[0m\u001b[0mcasted_key\u001b[0m\u001b[0;34m)\u001b[0m\u001b[0;34m\u001b[0m\u001b[0;34m\u001b[0m\u001b[0m\n\u001b[0m\u001b[1;32m   2899\u001b[0m             \u001b[0;32mexcept\u001b[0m \u001b[0mKeyError\u001b[0m \u001b[0;32mas\u001b[0m \u001b[0merr\u001b[0m\u001b[0;34m:\u001b[0m\u001b[0;34m\u001b[0m\u001b[0;34m\u001b[0m\u001b[0m\n",
            "\u001b[0;32mpandas/_libs/index.pyx\u001b[0m in \u001b[0;36mpandas._libs.index.IndexEngine.get_loc\u001b[0;34m()\u001b[0m\n",
            "\u001b[0;32mpandas/_libs/index.pyx\u001b[0m in \u001b[0;36mpandas._libs.index.IndexEngine.get_loc\u001b[0;34m()\u001b[0m\n",
            "\u001b[0;32mpandas/_libs/hashtable_class_helper.pxi\u001b[0m in \u001b[0;36mpandas._libs.hashtable.PyObjectHashTable.get_item\u001b[0;34m()\u001b[0m\n",
            "\u001b[0;32mpandas/_libs/hashtable_class_helper.pxi\u001b[0m in \u001b[0;36mpandas._libs.hashtable.PyObjectHashTable.get_item\u001b[0;34m()\u001b[0m\n",
            "\u001b[0;31mKeyError\u001b[0m: 'category'",
            "\nThe above exception was the direct cause of the following exception:\n",
            "\u001b[0;31mKeyError\u001b[0m                                  Traceback (most recent call last)",
            "\u001b[0;32m<ipython-input-86-405e6584a9cd>\u001b[0m in \u001b[0;36m<module>\u001b[0;34m()\u001b[0m\n\u001b[0;32m----> 1\u001b[0;31m \u001b[0mdf\u001b[0m\u001b[0;34m[\u001b[0m\u001b[0;34m'category'\u001b[0m\u001b[0;34m]\u001b[0m\u001b[0;34m.\u001b[0m\u001b[0munique\u001b[0m\u001b[0;34m(\u001b[0m\u001b[0;34m)\u001b[0m\u001b[0;34m\u001b[0m\u001b[0;34m\u001b[0m\u001b[0m\n\u001b[0m",
            "\u001b[0;32m/usr/local/lib/python3.7/dist-packages/pandas/core/frame.py\u001b[0m in \u001b[0;36m__getitem__\u001b[0;34m(self, key)\u001b[0m\n\u001b[1;32m   2904\u001b[0m             \u001b[0;32mif\u001b[0m \u001b[0mself\u001b[0m\u001b[0;34m.\u001b[0m\u001b[0mcolumns\u001b[0m\u001b[0;34m.\u001b[0m\u001b[0mnlevels\u001b[0m \u001b[0;34m>\u001b[0m \u001b[0;36m1\u001b[0m\u001b[0;34m:\u001b[0m\u001b[0;34m\u001b[0m\u001b[0;34m\u001b[0m\u001b[0m\n\u001b[1;32m   2905\u001b[0m                 \u001b[0;32mreturn\u001b[0m \u001b[0mself\u001b[0m\u001b[0;34m.\u001b[0m\u001b[0m_getitem_multilevel\u001b[0m\u001b[0;34m(\u001b[0m\u001b[0mkey\u001b[0m\u001b[0;34m)\u001b[0m\u001b[0;34m\u001b[0m\u001b[0;34m\u001b[0m\u001b[0m\n\u001b[0;32m-> 2906\u001b[0;31m             \u001b[0mindexer\u001b[0m \u001b[0;34m=\u001b[0m \u001b[0mself\u001b[0m\u001b[0;34m.\u001b[0m\u001b[0mcolumns\u001b[0m\u001b[0;34m.\u001b[0m\u001b[0mget_loc\u001b[0m\u001b[0;34m(\u001b[0m\u001b[0mkey\u001b[0m\u001b[0;34m)\u001b[0m\u001b[0;34m\u001b[0m\u001b[0;34m\u001b[0m\u001b[0m\n\u001b[0m\u001b[1;32m   2907\u001b[0m             \u001b[0;32mif\u001b[0m \u001b[0mis_integer\u001b[0m\u001b[0;34m(\u001b[0m\u001b[0mindexer\u001b[0m\u001b[0;34m)\u001b[0m\u001b[0;34m:\u001b[0m\u001b[0;34m\u001b[0m\u001b[0;34m\u001b[0m\u001b[0m\n\u001b[1;32m   2908\u001b[0m                 \u001b[0mindexer\u001b[0m \u001b[0;34m=\u001b[0m \u001b[0;34m[\u001b[0m\u001b[0mindexer\u001b[0m\u001b[0;34m]\u001b[0m\u001b[0;34m\u001b[0m\u001b[0;34m\u001b[0m\u001b[0m\n",
            "\u001b[0;32m/usr/local/lib/python3.7/dist-packages/pandas/core/indexes/base.py\u001b[0m in \u001b[0;36mget_loc\u001b[0;34m(self, key, method, tolerance)\u001b[0m\n\u001b[1;32m   2898\u001b[0m                 \u001b[0;32mreturn\u001b[0m \u001b[0mself\u001b[0m\u001b[0;34m.\u001b[0m\u001b[0m_engine\u001b[0m\u001b[0;34m.\u001b[0m\u001b[0mget_loc\u001b[0m\u001b[0;34m(\u001b[0m\u001b[0mcasted_key\u001b[0m\u001b[0;34m)\u001b[0m\u001b[0;34m\u001b[0m\u001b[0;34m\u001b[0m\u001b[0m\n\u001b[1;32m   2899\u001b[0m             \u001b[0;32mexcept\u001b[0m \u001b[0mKeyError\u001b[0m \u001b[0;32mas\u001b[0m \u001b[0merr\u001b[0m\u001b[0;34m:\u001b[0m\u001b[0;34m\u001b[0m\u001b[0;34m\u001b[0m\u001b[0m\n\u001b[0;32m-> 2900\u001b[0;31m                 \u001b[0;32mraise\u001b[0m \u001b[0mKeyError\u001b[0m\u001b[0;34m(\u001b[0m\u001b[0mkey\u001b[0m\u001b[0;34m)\u001b[0m \u001b[0;32mfrom\u001b[0m \u001b[0merr\u001b[0m\u001b[0;34m\u001b[0m\u001b[0;34m\u001b[0m\u001b[0m\n\u001b[0m\u001b[1;32m   2901\u001b[0m \u001b[0;34m\u001b[0m\u001b[0m\n\u001b[1;32m   2902\u001b[0m         \u001b[0;32mif\u001b[0m \u001b[0mtolerance\u001b[0m \u001b[0;32mis\u001b[0m \u001b[0;32mnot\u001b[0m \u001b[0;32mNone\u001b[0m\u001b[0;34m:\u001b[0m\u001b[0;34m\u001b[0m\u001b[0;34m\u001b[0m\u001b[0m\n",
            "\u001b[0;31mKeyError\u001b[0m: 'category'"
          ]
        }
      ]
    },
    {
      "cell_type": "code",
      "metadata": {
        "id": "JeJelAg_IOJL"
      },
      "source": [
        "df.loc[df['category'].isna()]"
      ],
      "execution_count": null,
      "outputs": []
    },
    {
      "cell_type": "code",
      "metadata": {
        "id": "-GFkx2ng6kOP"
      },
      "source": [
        "df.loc[df['seller_level']=='Top Rated Seller'].head()"
      ],
      "execution_count": null,
      "outputs": []
    },
    {
      "cell_type": "code",
      "metadata": {
        "id": "dV4ZpIC67wrl"
      },
      "source": [
        "df['len_title']=df_best['title'].apply(len)\n",
        "df['description_content']=df['description_content'].apply(str)\n",
        "df['len_decription']=df['description_content'].apply(len)"
      ],
      "execution_count": null,
      "outputs": []
    },
    {
      "cell_type": "code",
      "metadata": {
        "id": "r5fsx8TIFMLF"
      },
      "source": [
        "df_best['len_title']=df_best['title'].apply(len)\n",
        "df_best['description_content']=df_best['description_content'].apply(str)\n",
        "df_best['len_decription']=df_best['description_content'].apply(len)"
      ],
      "execution_count": null,
      "outputs": []
    },
    {
      "cell_type": "code",
      "metadata": {
        "id": "xDXGAUQlXCGr"
      },
      "source": [
        "df_nullos['len_title']=df_nullos['title'].apply(len)\n",
        "df_nullos['description_content']=df_nullos['description_content'].apply(str)\n",
        "df_nullos['len_decription']=df_nullos['description_content'].apply(len)"
      ],
      "execution_count": null,
      "outputs": []
    },
    {
      "cell_type": "code",
      "metadata": {
        "id": "KVjQAzM6740o"
      },
      "source": [
        "df.describe()"
      ],
      "execution_count": null,
      "outputs": []
    },
    {
      "cell_type": "code",
      "metadata": {
        "id": "EOY2u8Gw8BLB"
      },
      "source": [
        "sns.boxplot(x=df_best['len_decription'])\n",
        "plt.title('Distribution de la longueur des descriptions')\n",
        "plt.show()"
      ],
      "execution_count": null,
      "outputs": []
    },
    {
      "cell_type": "code",
      "metadata": {
        "id": "vl_qh0kg8wtW"
      },
      "source": [
        "sns.boxplot(x=df_best['len_title'])\n",
        "plt.title('Distribution de la longueur des titres')\n",
        "plt.show()"
      ],
      "execution_count": null,
      "outputs": []
    },
    {
      "cell_type": "code",
      "metadata": {
        "id": "72wd3QXyW7_L"
      },
      "source": [
        "sns.boxplot(x=df_nullos['len_title'])\n",
        "plt.title('Distribution de la longueur des titres')\n",
        "plt.show()"
      ],
      "execution_count": null,
      "outputs": []
    },
    {
      "cell_type": "code",
      "metadata": {
        "id": "hrTtEGORXwcH"
      },
      "source": [
        "df_nullos['len_title'].describe()"
      ],
      "execution_count": null,
      "outputs": []
    },
    {
      "cell_type": "code",
      "metadata": {
        "id": "NBglkhU78_df"
      },
      "source": [
        "df.describe()"
      ],
      "execution_count": null,
      "outputs": []
    },
    {
      "cell_type": "code",
      "metadata": {
        "id": "wZjcfE3w9Ts0"
      },
      "source": [
        "type(list(df.columns))"
      ],
      "execution_count": null,
      "outputs": []
    },
    {
      "cell_type": "code",
      "metadata": {
        "id": "Ry1e2XZcHr-A"
      },
      "source": [
        "df['Unnamed: 45'].unique()"
      ],
      "execution_count": null,
      "outputs": []
    },
    {
      "cell_type": "code",
      "metadata": {
        "id": "Kb3VkBPdHyQb"
      },
      "source": [
        "df.loc[df['Unnamed: 45']=='Full Website Creation']"
      ],
      "execution_count": null,
      "outputs": []
    },
    {
      "cell_type": "code",
      "metadata": {
        "id": "0jD9eb70Jzbo"
      },
      "source": [
        "df['Address'].value_counts()"
      ],
      "execution_count": null,
      "outputs": []
    },
    {
      "cell_type": "code",
      "metadata": {
        "id": "ktO-2Xp2Rlbt"
      },
      "source": [
        "df.isna().sum()"
      ],
      "execution_count": null,
      "outputs": []
    },
    {
      "cell_type": "code",
      "metadata": {
        "id": "YQs2Mbn3UD_B"
      },
      "source": [
        "df.shape"
      ],
      "execution_count": null,
      "outputs": []
    },
    {
      "cell_type": "code",
      "metadata": {
        "id": "g_Dl2SJJUFbX"
      },
      "source": [
        "df.groupby(['user_stats_member_since', 'Address']).agg({'ratings_count':'sum','rating_score':'sum'})"
      ],
      "execution_count": null,
      "outputs": []
    },
    {
      "cell_type": "code",
      "metadata": {
        "id": "-XysU16J2MiT"
      },
      "source": [
        "df.pivot_table('user_stats_member_since', ['Address', 'ratings_count'], aggfunc='sum')"
      ],
      "execution_count": null,
      "outputs": []
    },
    {
      "cell_type": "code",
      "metadata": {
        "id": "njA6NdF_5tDA"
      },
      "source": [
        "df['collect_count'].unique()"
      ],
      "execution_count": null,
      "outputs": []
    },
    {
      "cell_type": "code",
      "metadata": {
        "id": "V9zuIvHR6BhR"
      },
      "source": [
        "df.drop(df[df['collect_count']=='I speak French'].index, axis=0, inplace=True)"
      ],
      "execution_count": null,
      "outputs": []
    },
    {
      "cell_type": "code",
      "metadata": {
        "id": "EZcmdyye6saT"
      },
      "source": [
        "df.drop(df[df['collect_count']=='I speak French'].index, axis=0, inplace=True)"
      ],
      "execution_count": null,
      "outputs": []
    },
    {
      "cell_type": "code",
      "metadata": {
        "id": "Bp4HKq9K7Ixx"
      },
      "source": [
        "df['collect_count']=df['collect_count'].apply(lambda x: int(x) if pd.notnull(x) else x )\n",
        "df['ratings_count']=df['ratings_count'].apply(lambda x: int(x) if pd.notnull(x) else x )"
      ],
      "execution_count": null,
      "outputs": []
    },
    {
      "cell_type": "code",
      "metadata": {
        "id": "OTk7zWGd5JgG"
      },
      "source": [
        "sns.boxplot(x=df['collect_count'])\n",
        "plt.show()"
      ],
      "execution_count": null,
      "outputs": []
    },
    {
      "cell_type": "code",
      "metadata": {
        "id": "00khHsw47hJO"
      },
      "source": [
        "df.sort_values(by='collect_count', ascending=False)"
      ],
      "execution_count": null,
      "outputs": []
    },
    {
      "cell_type": "code",
      "metadata": {
        "id": "kKlZvgLS9Ti9"
      },
      "source": [
        "plt.figure(figsize=(15, 15))\n",
        "sns.regplot(x=df['ratings_count'].drop(df[df['collect_count']==6941].index), y=df['collect_count'].drop(df[df['collect_count']==6941].index))\n",
        "plt.show()"
      ],
      "execution_count": null,
      "outputs": []
    },
    {
      "cell_type": "code",
      "metadata": {
        "id": "tCF9_a0vA2Sg"
      },
      "source": [
        "# Correlation d'une variable à l'ensemble des autres\n",
        "\n",
        "fig, ax = plt.subplots(figsize=(8, 12))\n",
        "sns.set_style(\"ticks\")\n",
        "# Heatmap\n",
        "sns.heatmap(df_best.corr()[['collect_count']].sort_values(by='collect_count', ascending=False), linewidths = 1, vmin = -1, vmax = 1, center = 0, annot=True, cmap='RdPu', cbar_kws = {'label': 'Coefficient de corrélation'}, annot_kws = {'size':18})\n",
        "# Title\n",
        "plt.title(\"Collect_count correlations\", size = 18)\n",
        "plt.show()"
      ],
      "execution_count": null,
      "outputs": []
    },
    {
      "cell_type": "markdown",
      "metadata": {
        "id": "PbUl9bC2INU3"
      },
      "source": [
        "#Scrapping"
      ]
    },
    {
      "cell_type": "code",
      "metadata": {
        "id": "JK9nqsj-IO2a"
      },
      "source": [
        "import requests\n",
        "from bs4 import BeautifulSoup"
      ],
      "execution_count": null,
      "outputs": []
    },
    {
      "cell_type": "code",
      "metadata": {
        "id": "BzqM9i43KS2T"
      },
      "source": [
        "url = 'https://www.fiverr.com/categories/data/databases?source=gallery_listing'"
      ],
      "execution_count": null,
      "outputs": []
    },
    {
      "cell_type": "code",
      "metadata": {
        "id": "93JPsMktKUAD"
      },
      "source": [
        "header = {'User_agent':'Mozilla/5.0 (Linux; U; Android 4.4.2; en_us; SCH_I535 Build/KOT49H) AppleWebKit/534.30 (KHTML, like Gecko) Version/4.0 Mobile Safari/534.30'}\n",
        "r = requests.get(url, headers=header)"
      ],
      "execution_count": null,
      "outputs": []
    },
    {
      "cell_type": "code",
      "metadata": {
        "id": "leHamS25Kj6g"
      },
      "source": [
        "r"
      ],
      "execution_count": null,
      "outputs": []
    },
    {
      "cell_type": "code",
      "metadata": {
        "id": "LuWd0U22LBq-"
      },
      "source": [
        "soup=BeautifulSoup(r.text, 'html.parser')"
      ],
      "execution_count": null,
      "outputs": []
    },
    {
      "cell_type": "code",
      "metadata": {
        "id": "yXnmcBSBO5x8"
      },
      "source": [
        "print(soup)"
      ],
      "execution_count": null,
      "outputs": []
    },
    {
      "cell_type": "code",
      "metadata": {
        "id": "h9X9X9gZMIbl"
      },
      "source": [
        "sellers = soup.find_all('div', class_=\"seller_identifiers\")"
      ],
      "execution_count": null,
      "outputs": []
    },
    {
      "cell_type": "code",
      "metadata": {
        "id": "re2HSUljN_kL"
      },
      "source": [
        "gigs = soup.find_all('div', class_=\"gig_wrapper_impressions gig_wrapper card\")"
      ],
      "execution_count": null,
      "outputs": []
    },
    {
      "cell_type": "code",
      "metadata": {
        "id": "KQz0fAlhMooZ"
      },
      "source": [
        "len(sellers)"
      ],
      "execution_count": null,
      "outputs": []
    },
    {
      "cell_type": "code",
      "metadata": {
        "id": "hUPvmaGaOPYW"
      },
      "source": [
        "sellers"
      ],
      "execution_count": null,
      "outputs": []
    },
    {
      "cell_type": "markdown",
      "metadata": {
        "id": "xN8WKqvMiw8_"
      },
      "source": [
        "#Metadata split"
      ]
    },
    {
      "cell_type": "code",
      "metadata": {
        "id": "W2LUvEFcwPvn"
      },
      "source": [
        "import re"
      ],
      "execution_count": null,
      "outputs": []
    },
    {
      "cell_type": "code",
      "metadata": {
        "id": "UExrOr14NKFu"
      },
      "source": [
        "string='<li class=\"metadata_attribute\"><p>Platform</p><ul><li>Wix</li></ul></li><li class=\"metadata_attribute\"><p>Specialization</p><ul><li>Blog</li><li>Business</li><li>Education</li><li>Portfolio</li><li>Entertainment</li><li>Non_profit</li><li>Wedding</li><li>Forms</li><li>Brochure</li></ul></li><li class=\"metadata_attribute\"><p>Supported plugin types</p><ul><li>Marketing</li><li>Payment</li><li>Forum</li><li>Social Media</li><li>Customer Support</li><li>Shipping</li><li>Inventory</li><li>Analytics</li><li>Video</li><li>Form</li><li>Events</li><li>Music</li><li>Chat </li><li>Membership</li><li>Map</li><li>FAQ</li><li>Gallery</li></ul></li>'"
      ],
      "execution_count": null,
      "outputs": []
    },
    {
      "cell_type": "code",
      "metadata": {
        "id": "vUnnMTi6X1Zg"
      },
      "source": [
        "new_string = string.split(sep=\"<p\")"
      ],
      "execution_count": null,
      "outputs": []
    },
    {
      "cell_type": "code",
      "metadata": {
        "colab": {
          "base_uri": "https://localhost:8080/"
        },
        "id": "j8BC4DO1Zaik",
        "outputId": "8f1983e5-723c-4a29-f3ba-04c0fdec477c"
      },
      "source": [
        "re.split(r'<p[^>]*>', string)"
      ],
      "execution_count": null,
      "outputs": [
        {
          "output_type": "execute_result",
          "data": {
            "text/plain": [
              "['<li class=\"metadata_attribute\">',\n",
              " 'Platform</p><ul><li>Wix</li></ul></li><li class=\"metadata_attribute\">',\n",
              " 'Specialization</p><ul><li>Blog</li><li>Business</li><li>Education</li><li>Portfolio</li><li>Entertainment</li><li>Non_profit</li><li>Wedding</li><li>Forms</li><li>Brochure</li></ul></li><li class=\"metadata_attribute\">',\n",
              " 'Supported plugin types</p><ul><li>Marketing</li><li>Payment</li><li>Forum</li><li>Social Media</li><li>Customer Support</li><li>Shipping</li><li>Inventory</li><li>Analytics</li><li>Video</li><li>Form</li><li>Events</li><li>Music</li><li>Chat </li><li>Membership</li><li>Map</li><li>FAQ</li><li>Gallery</li></ul></li>']"
            ]
          },
          "metadata": {
            "tags": []
          },
          "execution_count": 68
        }
      ]
    },
    {
      "cell_type": "code",
      "metadata": {
        "colab": {
          "base_uri": "https://localhost:8080/"
        },
        "id": "3IdCffxXYCTf",
        "outputId": "1be3cc42-5211-4c5c-ca7d-b35aee06f137"
      },
      "source": [
        "new_string"
      ],
      "execution_count": null,
      "outputs": [
        {
          "output_type": "execute_result",
          "data": {
            "text/plain": [
              "['<li class=\"metadata_attribute\">',\n",
              " '>Platform</p><ul><li>Wix</li></ul></li><li class=\"metadata_attribute\">',\n",
              " '>Specialization</p><ul><li>Blog</li><li>Business</li><li>Education</li><li>Portfolio</li><li>Entertainment</li><li>Non_profit</li><li>Wedding</li><li>Forms</li><li>Brochure</li></ul></li><li class=\"metadata_attribute\">',\n",
              " '>Supported plugin types</p><ul><li>Marketing</li><li>Payment</li><li>Forum</li><li>Social Media</li><li>Customer Support</li><li>Shipping</li><li>Inventory</li><li>Analytics</li><li>Video</li><li>Form</li><li>Events</li><li>Music</li><li>Chat </li><li>Membership</li><li>Map</li><li>FAQ</li><li>Gallery</li></ul></li>']"
            ]
          },
          "metadata": {
            "tags": []
          },
          "execution_count": 69
        }
      ]
    },
    {
      "cell_type": "code",
      "metadata": {
        "id": "usPbcRR7VPIH"
      },
      "source": [
        "#new_string=re.sub(r\"<[^>]*>\", \" \", string)"
      ],
      "execution_count": null,
      "outputs": []
    },
    {
      "cell_type": "code",
      "metadata": {
        "colab": {
          "base_uri": "https://localhost:8080/"
        },
        "id": "TRsYXAaZrmhr",
        "outputId": "5543bcfc-408d-4e22-e34c-980e1c1e8441"
      },
      "source": [
        "new_string"
      ],
      "execution_count": null,
      "outputs": [
        {
          "output_type": "execute_result",
          "data": {
            "text/plain": [
              "['<li class=\"metadata_attribute\">',\n",
              " '>Platform</p><ul><li>Wix</li></ul></li><li class=\"metadata_attribute\">',\n",
              " '>Specialization</p><ul><li>Blog</li><li>Business</li><li>Education</li><li>Portfolio</li><li>Entertainment</li><li>Non_profit</li><li>Wedding</li><li>Forms</li><li>Brochure</li></ul></li><li class=\"metadata_attribute\">',\n",
              " '>Supported plugin types</p><ul><li>Marketing</li><li>Payment</li><li>Forum</li><li>Social Media</li><li>Customer Support</li><li>Shipping</li><li>Inventory</li><li>Analytics</li><li>Video</li><li>Form</li><li>Events</li><li>Music</li><li>Chat </li><li>Membership</li><li>Map</li><li>FAQ</li><li>Gallery</li></ul></li>']"
            ]
          },
          "metadata": {
            "tags": []
          },
          "execution_count": 71
        }
      ]
    },
    {
      "cell_type": "code",
      "metadata": {
        "id": "m1z6LLLeqlz5"
      },
      "source": [
        "#[new_string.strip().split(' ')]"
      ],
      "execution_count": null,
      "outputs": []
    },
    {
      "cell_type": "code",
      "metadata": {
        "id": "9vRlLw4MpAUs"
      },
      "source": [
        "#new_new_string = new_string.strip().split(' ')"
      ],
      "execution_count": null,
      "outputs": []
    },
    {
      "cell_type": "code",
      "metadata": {
        "id": "xkv9fqRNqvm9"
      },
      "source": [
        "#[element for element in new_new_string if element!='']"
      ],
      "execution_count": null,
      "outputs": []
    },
    {
      "cell_type": "code",
      "metadata": {
        "id": "dJadeArvqSrD"
      },
      "source": [
        "#new_new_string"
      ],
      "execution_count": null,
      "outputs": []
    },
    {
      "cell_type": "code",
      "metadata": {
        "colab": {
          "base_uri": "https://localhost:8080/",
          "height": 35
        },
        "id": "k5_Z2agxiOMu",
        "outputId": "fc3135f7-83fd-49a1-c2f8-e848e192c248"
      },
      "source": [
        "new_string.pop(0)\n"
      ],
      "execution_count": null,
      "outputs": [
        {
          "output_type": "execute_result",
          "data": {
            "application/vnd.google.colaboratory.intrinsic+json": {
              "type": "string"
            },
            "text/plain": [
              "'<li class=\"metadata_attribute\">'"
            ]
          },
          "metadata": {
            "tags": []
          },
          "execution_count": 76
        }
      ]
    },
    {
      "cell_type": "code",
      "metadata": {
        "colab": {
          "base_uri": "https://localhost:8080/"
        },
        "id": "4LOZQ7CqkVDi",
        "outputId": "d566fbf3-7d1a-461f-97c3-ef7abd887658"
      },
      "source": [
        "new_string"
      ],
      "execution_count": null,
      "outputs": [
        {
          "output_type": "execute_result",
          "data": {
            "text/plain": [
              "['>Platform</p><ul><li>Wix</li></ul></li><li class=\"metadata_attribute\">',\n",
              " '>Specialization</p><ul><li>Blog</li><li>Business</li><li>Education</li><li>Portfolio</li><li>Entertainment</li><li>Non_profit</li><li>Wedding</li><li>Forms</li><li>Brochure</li></ul></li><li class=\"metadata_attribute\">',\n",
              " '>Supported plugin types</p><ul><li>Marketing</li><li>Payment</li><li>Forum</li><li>Social Media</li><li>Customer Support</li><li>Shipping</li><li>Inventory</li><li>Analytics</li><li>Video</li><li>Form</li><li>Events</li><li>Music</li><li>Chat </li><li>Membership</li><li>Map</li><li>FAQ</li><li>Gallery</li></ul></li>']"
            ]
          },
          "metadata": {
            "tags": []
          },
          "execution_count": 77
        }
      ]
    },
    {
      "cell_type": "code",
      "metadata": {
        "id": "XH3cAtFfcHbp"
      },
      "source": [
        "def occurences(meta):\n",
        "  dico={}\n",
        "  new_meta = meta.split(sep=\"<p\")\n",
        "  new_meta.pop(0)\n",
        "  for item in new_meta:\n",
        "    #print(item)\n",
        "    item = \"<p\" + item\n",
        "    soup = BeautifulSoup(item)\n",
        "    for balise in soup:\n",
        "        for li in balise:\n",
        "          dico[balise.find('p').text]= [li.text for li in balise.find_all('li') if li.text != '']\n",
        "  return dico"
      ],
      "execution_count": null,
      "outputs": []
    },
    {
      "cell_type": "code",
      "metadata": {
        "colab": {
          "base_uri": "https://localhost:8080/"
        },
        "id": "9TV_nNHwCPnt",
        "outputId": "7bcac664-3a56-4cf5-8e1c-1dc49b1dd3f8"
      },
      "source": [
        "occurences('<li class=\"metadata-attribute\"><p>Platform</p><ul><li>Wix</li></ul></li>')"
      ],
      "execution_count": null,
      "outputs": [
        {
          "output_type": "execute_result",
          "data": {
            "text/plain": [
              "{'Platform': ['Wix']}"
            ]
          },
          "metadata": {
            "tags": []
          },
          "execution_count": 79
        }
      ]
    },
    {
      "cell_type": "code",
      "metadata": {
        "colab": {
          "base_uri": "https://localhost:8080/"
        },
        "id": "QxEgTRB_WIxG",
        "outputId": "161a735a-15dd-44e4-bdc8-b4c686bb1403"
      },
      "source": [
        "occurences(string)"
      ],
      "execution_count": null,
      "outputs": [
        {
          "output_type": "execute_result",
          "data": {
            "text/plain": [
              "{'Platform': ['Wix'],\n",
              " 'Specialization': ['Blog',\n",
              "  'Business',\n",
              "  'Education',\n",
              "  'Portfolio',\n",
              "  'Entertainment',\n",
              "  'Non_profit',\n",
              "  'Wedding',\n",
              "  'Forms',\n",
              "  'Brochure'],\n",
              " 'Supported plugin types': ['Marketing',\n",
              "  'Payment',\n",
              "  'Forum',\n",
              "  'Social Media',\n",
              "  'Customer Support',\n",
              "  'Shipping',\n",
              "  'Inventory',\n",
              "  'Analytics',\n",
              "  'Video',\n",
              "  'Form',\n",
              "  'Events',\n",
              "  'Music',\n",
              "  'Chat ',\n",
              "  'Membership',\n",
              "  'Map',\n",
              "  'FAQ',\n",
              "  'Gallery']}"
            ]
          },
          "metadata": {
            "tags": []
          },
          "execution_count": 80
        }
      ]
    },
    {
      "cell_type": "code",
      "metadata": {
        "colab": {
          "base_uri": "https://localhost:8080/",
          "height": 561
        },
        "id": "U4wqOg4dU8L8",
        "outputId": "88ca0095-0140-48e0-bf1d-e8af21b1447d"
      },
      "source": [
        "df['metadata']=df['metadata'].apply(str)"
      ],
      "execution_count": null,
      "outputs": [
        {
          "output_type": "error",
          "ename": "KeyError",
          "evalue": "ignored",
          "traceback": [
            "\u001b[0;31m---------------------------------------------------------------------------\u001b[0m",
            "\u001b[0;31mKeyError\u001b[0m                                  Traceback (most recent call last)",
            "\u001b[0;32m/usr/local/lib/python3.7/dist-packages/pandas/core/indexes/base.py\u001b[0m in \u001b[0;36mget_loc\u001b[0;34m(self, key, method, tolerance)\u001b[0m\n\u001b[1;32m   2897\u001b[0m             \u001b[0;32mtry\u001b[0m\u001b[0;34m:\u001b[0m\u001b[0;34m\u001b[0m\u001b[0;34m\u001b[0m\u001b[0m\n\u001b[0;32m-> 2898\u001b[0;31m                 \u001b[0;32mreturn\u001b[0m \u001b[0mself\u001b[0m\u001b[0;34m.\u001b[0m\u001b[0m_engine\u001b[0m\u001b[0;34m.\u001b[0m\u001b[0mget_loc\u001b[0m\u001b[0;34m(\u001b[0m\u001b[0mcasted_key\u001b[0m\u001b[0;34m)\u001b[0m\u001b[0;34m\u001b[0m\u001b[0;34m\u001b[0m\u001b[0m\n\u001b[0m\u001b[1;32m   2899\u001b[0m             \u001b[0;32mexcept\u001b[0m \u001b[0mKeyError\u001b[0m \u001b[0;32mas\u001b[0m \u001b[0merr\u001b[0m\u001b[0;34m:\u001b[0m\u001b[0;34m\u001b[0m\u001b[0;34m\u001b[0m\u001b[0m\n",
            "\u001b[0;32mpandas/_libs/index.pyx\u001b[0m in \u001b[0;36mpandas._libs.index.IndexEngine.get_loc\u001b[0;34m()\u001b[0m\n",
            "\u001b[0;32mpandas/_libs/index.pyx\u001b[0m in \u001b[0;36mpandas._libs.index.IndexEngine.get_loc\u001b[0;34m()\u001b[0m\n",
            "\u001b[0;32mpandas/_libs/hashtable_class_helper.pxi\u001b[0m in \u001b[0;36mpandas._libs.hashtable.PyObjectHashTable.get_item\u001b[0;34m()\u001b[0m\n",
            "\u001b[0;32mpandas/_libs/hashtable_class_helper.pxi\u001b[0m in \u001b[0;36mpandas._libs.hashtable.PyObjectHashTable.get_item\u001b[0;34m()\u001b[0m\n",
            "\u001b[0;31mKeyError\u001b[0m: 'metadata'",
            "\nThe above exception was the direct cause of the following exception:\n",
            "\u001b[0;31mKeyError\u001b[0m                                  Traceback (most recent call last)",
            "\u001b[0;32m<ipython-input-81-606d90164484>\u001b[0m in \u001b[0;36m<module>\u001b[0;34m()\u001b[0m\n\u001b[0;32m----> 1\u001b[0;31m \u001b[0mdf\u001b[0m\u001b[0;34m[\u001b[0m\u001b[0;34m'metadata'\u001b[0m\u001b[0;34m]\u001b[0m\u001b[0;34m=\u001b[0m\u001b[0mdf\u001b[0m\u001b[0;34m[\u001b[0m\u001b[0;34m'metadata'\u001b[0m\u001b[0;34m]\u001b[0m\u001b[0;34m.\u001b[0m\u001b[0mapply\u001b[0m\u001b[0;34m(\u001b[0m\u001b[0mstr\u001b[0m\u001b[0;34m)\u001b[0m\u001b[0;34m\u001b[0m\u001b[0;34m\u001b[0m\u001b[0m\n\u001b[0m",
            "\u001b[0;32m/usr/local/lib/python3.7/dist-packages/pandas/core/frame.py\u001b[0m in \u001b[0;36m__getitem__\u001b[0;34m(self, key)\u001b[0m\n\u001b[1;32m   2904\u001b[0m             \u001b[0;32mif\u001b[0m \u001b[0mself\u001b[0m\u001b[0;34m.\u001b[0m\u001b[0mcolumns\u001b[0m\u001b[0;34m.\u001b[0m\u001b[0mnlevels\u001b[0m \u001b[0;34m>\u001b[0m \u001b[0;36m1\u001b[0m\u001b[0;34m:\u001b[0m\u001b[0;34m\u001b[0m\u001b[0;34m\u001b[0m\u001b[0m\n\u001b[1;32m   2905\u001b[0m                 \u001b[0;32mreturn\u001b[0m \u001b[0mself\u001b[0m\u001b[0;34m.\u001b[0m\u001b[0m_getitem_multilevel\u001b[0m\u001b[0;34m(\u001b[0m\u001b[0mkey\u001b[0m\u001b[0;34m)\u001b[0m\u001b[0;34m\u001b[0m\u001b[0;34m\u001b[0m\u001b[0m\n\u001b[0;32m-> 2906\u001b[0;31m             \u001b[0mindexer\u001b[0m \u001b[0;34m=\u001b[0m \u001b[0mself\u001b[0m\u001b[0;34m.\u001b[0m\u001b[0mcolumns\u001b[0m\u001b[0;34m.\u001b[0m\u001b[0mget_loc\u001b[0m\u001b[0;34m(\u001b[0m\u001b[0mkey\u001b[0m\u001b[0;34m)\u001b[0m\u001b[0;34m\u001b[0m\u001b[0;34m\u001b[0m\u001b[0m\n\u001b[0m\u001b[1;32m   2907\u001b[0m             \u001b[0;32mif\u001b[0m \u001b[0mis_integer\u001b[0m\u001b[0;34m(\u001b[0m\u001b[0mindexer\u001b[0m\u001b[0;34m)\u001b[0m\u001b[0;34m:\u001b[0m\u001b[0;34m\u001b[0m\u001b[0;34m\u001b[0m\u001b[0m\n\u001b[1;32m   2908\u001b[0m                 \u001b[0mindexer\u001b[0m \u001b[0;34m=\u001b[0m \u001b[0;34m[\u001b[0m\u001b[0mindexer\u001b[0m\u001b[0;34m]\u001b[0m\u001b[0;34m\u001b[0m\u001b[0;34m\u001b[0m\u001b[0m\n",
            "\u001b[0;32m/usr/local/lib/python3.7/dist-packages/pandas/core/indexes/base.py\u001b[0m in \u001b[0;36mget_loc\u001b[0;34m(self, key, method, tolerance)\u001b[0m\n\u001b[1;32m   2898\u001b[0m                 \u001b[0;32mreturn\u001b[0m \u001b[0mself\u001b[0m\u001b[0;34m.\u001b[0m\u001b[0m_engine\u001b[0m\u001b[0;34m.\u001b[0m\u001b[0mget_loc\u001b[0m\u001b[0;34m(\u001b[0m\u001b[0mcasted_key\u001b[0m\u001b[0;34m)\u001b[0m\u001b[0;34m\u001b[0m\u001b[0;34m\u001b[0m\u001b[0m\n\u001b[1;32m   2899\u001b[0m             \u001b[0;32mexcept\u001b[0m \u001b[0mKeyError\u001b[0m \u001b[0;32mas\u001b[0m \u001b[0merr\u001b[0m\u001b[0;34m:\u001b[0m\u001b[0;34m\u001b[0m\u001b[0;34m\u001b[0m\u001b[0m\n\u001b[0;32m-> 2900\u001b[0;31m                 \u001b[0;32mraise\u001b[0m \u001b[0mKeyError\u001b[0m\u001b[0;34m(\u001b[0m\u001b[0mkey\u001b[0m\u001b[0;34m)\u001b[0m \u001b[0;32mfrom\u001b[0m \u001b[0merr\u001b[0m\u001b[0;34m\u001b[0m\u001b[0;34m\u001b[0m\u001b[0m\n\u001b[0m\u001b[1;32m   2901\u001b[0m \u001b[0;34m\u001b[0m\u001b[0m\n\u001b[1;32m   2902\u001b[0m         \u001b[0;32mif\u001b[0m \u001b[0mtolerance\u001b[0m \u001b[0;32mis\u001b[0m \u001b[0;32mnot\u001b[0m \u001b[0;32mNone\u001b[0m\u001b[0;34m:\u001b[0m\u001b[0;34m\u001b[0m\u001b[0;34m\u001b[0m\u001b[0m\n",
            "\u001b[0;31mKeyError\u001b[0m: 'metadata'"
          ]
        }
      ]
    },
    {
      "cell_type": "code",
      "metadata": {
        "id": "Y8mhvxZbKLbi"
      },
      "source": [
        "df['dico_meta']=df['metadata'].apply(occurences)"
      ],
      "execution_count": null,
      "outputs": []
    },
    {
      "cell_type": "code",
      "metadata": {
        "id": "FFHjqie5VBwM"
      },
      "source": [
        "df['dico_meta']"
      ],
      "execution_count": null,
      "outputs": []
    },
    {
      "cell_type": "code",
      "metadata": {
        "id": "wmYgkkhzAmge"
      },
      "source": [
        "df['metadata'].unique()"
      ],
      "execution_count": null,
      "outputs": []
    },
    {
      "cell_type": "code",
      "metadata": {
        "id": "paUFWiehBlvo"
      },
      "source": [
        "phrase_de_merde=\"I believe the quality of your website should reflect the quality of your business. That's why passion, power,\\xa0and imagination fuel every one of my designs. It's what sparks creativity and separates the\\xa0successful websites from the ho-hum. Your business is my\\xa0business so I\\xa0will be as passionate as you are (if not more) about your goals and its desire to succeed.\\xa0\\u200bWhen it all boils down, I\\xa0take the stress away and let you carry on with what you do best. Simple.With each of the package I offer, you will receive the following:Custom website designed to feature your content and services. I will come up with my own concept for the site, otherwise if you have sites you like you can share them with me and I will take elements from each and combine them into your own site concept.Unlimited revisions until you are 100% satisfied.Built on the Wix platform, unless you opt for Wordpress.Mobile/Tablet Friendly.Social Media accounts connected.SEO Optimization so that you are found in online search.90 Days of Support upon going live to ensure a successful launch where I will make any requested content changes to the website.\""
      ],
      "execution_count": null,
      "outputs": []
    },
    {
      "cell_type": "code",
      "metadata": {
        "id": "_TxECgYsBwyu"
      },
      "source": [
        "df.drop(df.loc[df['metadata']==phrase_de_merde].index, inplace=True)"
      ],
      "execution_count": null,
      "outputs": []
    },
    {
      "cell_type": "code",
      "metadata": {
        "id": "-WKxDZmg_eIL"
      },
      "source": [
        "type(list(df['dico_meta'].values))"
      ],
      "execution_count": null,
      "outputs": []
    },
    {
      "cell_type": "code",
      "metadata": {
        "id": "h_ZSnPi7aiMm"
      },
      "source": [
        "bool({})"
      ],
      "execution_count": null,
      "outputs": []
    },
    {
      "cell_type": "code",
      "metadata": {
        "id": "SuIXtRcua528"
      },
      "source": [
        "from collections import defaultdict\n",
        "\n",
        "dd = defaultdict(set)"
      ],
      "execution_count": null,
      "outputs": []
    },
    {
      "cell_type": "code",
      "metadata": {
        "id": "pNED5badaB9Y"
      },
      "source": [
        "for d in list(df['dico_meta'].values):\n",
        "  if bool(d):\n",
        "    for key, value in d.items():\n",
        "      for value_ta_race in value:\n",
        "        dd[key].add(value_ta_race)"
      ],
      "execution_count": null,
      "outputs": []
    },
    {
      "cell_type": "code",
      "metadata": {
        "id": "JB3c0PyQbD8Z"
      },
      "source": [
        "print(dd)"
      ],
      "execution_count": null,
      "outputs": []
    },
    {
      "cell_type": "code",
      "metadata": {
        "id": "vKhV0H8abzEB"
      },
      "source": [
        "dico_skills=dict(dd)"
      ],
      "execution_count": null,
      "outputs": []
    },
    {
      "cell_type": "code",
      "metadata": {
        "id": "fVATfo-TcLAY"
      },
      "source": [
        "for k, v in dico_skills.items():\n",
        "  print(\"----------------------------\")\n",
        "  print(k, \":\", v)"
      ],
      "execution_count": null,
      "outputs": []
    },
    {
      "cell_type": "code",
      "metadata": {
        "id": "yWVr7Lu8dJx2"
      },
      "source": [
        "print(dico)"
      ],
      "execution_count": null,
      "outputs": []
    },
    {
      "cell_type": "code",
      "metadata": {
        "id": "9ZgfRVnTpzR7"
      },
      "source": [
        "type(dico['Platform'][1]) "
      ],
      "execution_count": null,
      "outputs": []
    },
    {
      "cell_type": "markdown",
      "metadata": {
        "id": "CIyG9zaC41qj"
      },
      "source": [
        "#NLP"
      ]
    },
    {
      "cell_type": "code",
      "metadata": {
        "id": "3Gaglhiu42Zo"
      },
      "source": [
        "import nltk\n",
        "from nltk.corpus import stopwords\n",
        "nltk.download('popular')\n",
        "from sklearn.feature_extraction.text import TfidfVectorizer"
      ],
      "execution_count": null,
      "outputs": []
    },
    {
      "cell_type": "code",
      "metadata": {
        "id": "K9NiAeew6CO_"
      },
      "source": [
        "tokenizer = nltk.RegexpTokenizer(r\"\\w+\")\n",
        "nltk_stop_words = set(stopwords.words(\"english\"))"
      ],
      "execution_count": null,
      "outputs": []
    },
    {
      "cell_type": "code",
      "metadata": {
        "id": "EnUg4uapzJyq"
      },
      "source": [
        "nltk_stop_words.update(['website', 'develop', 'nan', ''])"
      ],
      "execution_count": null,
      "outputs": []
    },
    {
      "cell_type": "code",
      "metadata": {
        "id": "ZwWTzL3R6FRf"
      },
      "source": [
        "def func_clean(string):\n",
        "  tokenizer = nltk.RegexpTokenizer(r\"\\w+\")\n",
        "  new_words = tokenizer.tokenize(string)\n",
        "  new_words_lower = [word.lower() for word in new_words]\n",
        "  new_words_final = [word for word in new_words_lower if word not in nltk_stop_words]\n",
        "  final_string = \" \".join(new_words_final)\n",
        "  return final_string"
      ],
      "execution_count": null,
      "outputs": []
    },
    {
      "cell_type": "code",
      "metadata": {
        "id": "BpO0ECGRITrw"
      },
      "source": [
        "df['description_content']=df['description_content'].apply(str)\n",
        "df['one_liner']=df['one_liner'].apply(str)"
      ],
      "execution_count": null,
      "outputs": []
    },
    {
      "cell_type": "code",
      "metadata": {
        "id": "_gthEzi28BIa"
      },
      "source": [
        "df['title_clean'] = df['title'].apply(func_clean)\n",
        "df['description_clean'] = df['description_content'].apply(func_clean)\n",
        "df['one_liner_clean']=df['one_liner'].apply(func_clean)"
      ],
      "execution_count": null,
      "outputs": []
    },
    {
      "cell_type": "code",
      "metadata": {
        "id": "CaGdB6rt8lu3"
      },
      "source": [
        "df['title_clean'][0]"
      ],
      "execution_count": null,
      "outputs": []
    },
    {
      "cell_type": "code",
      "metadata": {
        "id": "h5JBipIQ8r10"
      },
      "source": [
        "df['one_liner_clean'][0]"
      ],
      "execution_count": null,
      "outputs": []
    },
    {
      "cell_type": "code",
      "metadata": {
        "id": "G40u9jgRtm5-"
      },
      "source": [
        "big_title = df['title_clean'].fillna('').str.cat(sep=' ')\n",
        "big_description = df['description_clean'].fillna('').str.cat(sep=' ')\n",
        "big_one_liner = df['one_liner_clean'].fillna('').str.cat(sep=' ')"
      ],
      "execution_count": null,
      "outputs": []
    },
    {
      "cell_type": "code",
      "metadata": {
        "id": "sl_bspd7uVzm"
      },
      "source": [
        "nltk.FreqDist(big_title.split(\" \")).most_common()[0:20]"
      ],
      "execution_count": null,
      "outputs": []
    },
    {
      "cell_type": "code",
      "metadata": {
        "id": "Oa7b_05Q8JhN"
      },
      "source": [
        "nltk.FreqDist(big_one_liner.split(\" \")).most_common()[0:20]"
      ],
      "execution_count": null,
      "outputs": []
    },
    {
      "cell_type": "code",
      "metadata": {
        "id": "dMT4kxtU8Ifa"
      },
      "source": [
        "nltk.FreqDist(big_description.split(\" \")).most_common()[0:20]"
      ],
      "execution_count": null,
      "outputs": []
    },
    {
      "cell_type": "markdown",
      "metadata": {
        "id": "ojiao6ZBd31X"
      },
      "source": [
        "#Tier 1, Tier 2 and Top"
      ]
    },
    {
      "cell_type": "code",
      "metadata": {
        "id": "vdas0jQYhLT3"
      },
      "source": [
        "df_nullos.describe()"
      ],
      "execution_count": null,
      "outputs": []
    },
    {
      "cell_type": "code",
      "metadata": {
        "id": "6CBxfSJweE8D"
      },
      "source": [
        "df_best = df.loc[(df['seller_level']=='Level 2 Seller') | (df['seller_level']=='Top Rated Seller')]\n",
        "df_nullos = df.loc[(df['seller_level']=='Level 1 Seller') | (df['seller_level'].isna())]"
      ],
      "execution_count": null,
      "outputs": []
    },
    {
      "cell_type": "code",
      "metadata": {
        "id": "rKVA9Ygce4ce"
      },
      "source": [
        "df_best['dico_meta']=df_best['metadata'].apply(occurences)\n",
        "df_nullos['dico_meta']=df_nullos['metadata'].apply(occurences)"
      ],
      "execution_count": null,
      "outputs": []
    },
    {
      "cell_type": "code",
      "metadata": {
        "id": "dnkdsgw2fEUK"
      },
      "source": [
        "dd_best = defaultdict(set)\n",
        "dd_nullos = defaultdict(set)"
      ],
      "execution_count": null,
      "outputs": []
    },
    {
      "cell_type": "code",
      "metadata": {
        "id": "3-O1WJq3e_To"
      },
      "source": [
        "for d in list(df_best['dico_meta'].values):\n",
        "  if bool(d):\n",
        "    for key, value in d.items():\n",
        "      for value_ta_race in value:\n",
        "        dd_best[key].add(value_ta_race)\n",
        "\n",
        "for d in list(df_best['dico_meta'].values):\n",
        "  if bool(d):\n",
        "    for key, value in d.items():\n",
        "      for value_ta_race in value:\n",
        "        dd_nullos[key].add(value_ta_race)"
      ],
      "execution_count": null,
      "outputs": []
    },
    {
      "cell_type": "code",
      "metadata": {
        "id": "oC3WQoAIfOPx"
      },
      "source": [
        "dico_skills_best=dict(dd_best)\n",
        "for k, v in dico_skills_best.items():\n",
        "  print(\"----------------------------\")\n",
        "  print(len(v))\n",
        "  print(k, \":\", v)"
      ],
      "execution_count": null,
      "outputs": []
    },
    {
      "cell_type": "code",
      "metadata": {
        "id": "RDb_R_9EfWWU"
      },
      "source": [
        "dico_skills_nullos=dict(dd_nullos)\n",
        "for k, v in dico_skills_nullos.items():\n",
        "  print(\"----------------------------\")\n",
        "  print(len(v))\n",
        "  print(k, \":\", v)"
      ],
      "execution_count": null,
      "outputs": []
    },
    {
      "cell_type": "code",
      "metadata": {
        "id": "H7Zl155m1-op"
      },
      "source": [
        "df.columns"
      ],
      "execution_count": null,
      "outputs": []
    },
    {
      "cell_type": "code",
      "metadata": {
        "id": "23Lv57SyKHyL"
      },
      "source": [
        "df['seller_level'].fillna('New Seller', inplace=True)"
      ],
      "execution_count": null,
      "outputs": []
    },
    {
      "cell_type": "markdown",
      "metadata": {
        "id": "fgYR9iILxgzj"
      },
      "source": [
        "#Johnny B Goode"
      ]
    }
  ]
}